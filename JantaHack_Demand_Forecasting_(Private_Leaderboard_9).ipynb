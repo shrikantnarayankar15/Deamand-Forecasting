{
  "nbformat": 4,
  "nbformat_minor": 0,
  "metadata": {
    "colab": {
      "name": "JantaHack-Demand Forecasting (Private Leaderboard-9).ipynb",
      "provenance": [],
      "collapsed_sections": []
    },
    "kernelspec": {
      "name": "python3",
      "display_name": "Python 3"
    },
    "accelerator": "GPU"
  },
  "cells": [
    {
      "cell_type": "code",
      "metadata": {
        "id": "Zg31krl8ke0R",
        "colab_type": "code",
        "colab": {}
      },
      "source": [
        "import pandas as pd\n",
        "import numpy as np\n"
      ],
      "execution_count": 1,
      "outputs": []
    },
    {
      "cell_type": "markdown",
      "metadata": {
        "id": "r7HDY36al45P",
        "colab_type": "text"
      },
      "source": [
        "### reading dataset"
      ]
    },
    {
      "cell_type": "code",
      "metadata": {
        "id": "aQLLvWtfkqqH",
        "colab_type": "code",
        "colab": {}
      },
      "source": [
        "train = pd.read_csv('https://raw.githubusercontent.com/shrikantnarayankar15/Deamand-Forecasting/master/train.csv')\n",
        "test = pd.read_csv('https://raw.githubusercontent.com/shrikantnarayankar15/Deamand-Forecasting/master/test.csv')"
      ],
      "execution_count": 2,
      "outputs": []
    },
    {
      "cell_type": "code",
      "metadata": {
        "id": "FQNYCJWNks11",
        "colab_type": "code",
        "colab": {}
      },
      "source": [
        "train['week'] = pd.to_datetime(train['week'])\n",
        "test['week'] = pd.to_datetime(test['week'])"
      ],
      "execution_count": 3,
      "outputs": []
    },
    {
      "cell_type": "markdown",
      "metadata": {
        "id": "dWdV2F-fkus2",
        "colab_type": "text"
      },
      "source": [
        "### Dropping null values which was only one"
      ]
    },
    {
      "cell_type": "code",
      "metadata": {
        "id": "GY2Ch0uVkuQv",
        "colab_type": "code",
        "colab": {}
      },
      "source": [
        "train.dropna(inplace=True)"
      ],
      "execution_count": 4,
      "outputs": []
    },
    {
      "cell_type": "markdown",
      "metadata": {
        "id": "AQq9LaHmkylD",
        "colab_type": "text"
      },
      "source": [
        "### Extracting features from week"
      ]
    },
    {
      "cell_type": "code",
      "metadata": {
        "id": "JcOCowaOk0_e",
        "colab_type": "code",
        "colab": {}
      },
      "source": [
        "train['day'] = train['week'].dt.weekday\n",
        "\n",
        "train['hour'] = train['week'].dt.hour\n",
        "train['month'] = train['week'].dt.month\n",
        "\n",
        "train['Year']= train['week'].dt.year%10\n",
        "train['DayofWeek']=train['week'].dt.day_name()\n",
        "train['Week']=train['week'].dt.week\n",
        "\n",
        "\n",
        "# Test data\n",
        "test['day'] = test['week'].dt.weekday\n",
        "test['hour'] = test['week'].dt.hour\n",
        "test['month'] = test['week'].dt.month\n",
        "\n",
        "test['Year']= test['week'].dt.year%10\n",
        "test['DayofWeek']=test['week'].dt.day_name()\n",
        "test['Week']=test['week'].dt.week"
      ],
      "execution_count": 7,
      "outputs": []
    },
    {
      "cell_type": "code",
      "metadata": {
        "id": "PI2lNqChk3eX",
        "colab_type": "code",
        "colab": {}
      },
      "source": [
        "train[\"DayCount\"] = train[\"week\"].apply(lambda m: m.toordinal()/730000) \n",
        "test[\"DayCount\"] = test[\"week\"].apply(lambda m: m.toordinal()/730000)"
      ],
      "execution_count": 8,
      "outputs": []
    },
    {
      "cell_type": "markdown",
      "metadata": {
        "id": "IEP5aZy0k5px",
        "colab_type": "text"
      },
      "source": [
        "### Outlier removal"
      ]
    },
    {
      "cell_type": "code",
      "metadata": {
        "id": "6FQYbjpsk8Fk",
        "colab_type": "code",
        "colab": {}
      },
      "source": [
        "train = train.drop(train[train['units_sold']>2500].index)"
      ],
      "execution_count": 9,
      "outputs": []
    },
    {
      "cell_type": "markdown",
      "metadata": {
        "id": "AKQo-EsHk9Y_",
        "colab_type": "text"
      },
      "source": [
        "### Feature Engineering"
      ]
    },
    {
      "cell_type": "code",
      "metadata": {
        "id": "J4w4-v3ek-46",
        "colab_type": "code",
        "colab": {}
      },
      "source": [
        "train['diff'] = (train['base_price'] - train['total_price'])/train['base_price']"
      ],
      "execution_count": 10,
      "outputs": []
    },
    {
      "cell_type": "code",
      "metadata": {
        "id": "M4VVKoralBKG",
        "colab_type": "code",
        "colab": {}
      },
      "source": [
        "# I only DayCount feature to differentiate between each week\n",
        "features = [ 'store_id', 'sku_id','total_price','base_price',\n",
        "       'is_featured_sku', 'is_display_sku','diff',\n",
        "       'DayCount'] "
      ],
      "execution_count": 11,
      "outputs": []
    },
    {
      "cell_type": "markdown",
      "metadata": {
        "id": "elsPdNj1lHTP",
        "colab_type": "text"
      },
      "source": [
        "### Log Conversion of baseprice and total_price due to skewness"
      ]
    },
    {
      "cell_type": "code",
      "metadata": {
        "id": "Y-v1rC9zlCb2",
        "colab_type": "code",
        "colab": {}
      },
      "source": [
        "train['total_price'] = np.log(train['total_price'])\n",
        "test['total_price'] = np.log(test['total_price'])"
      ],
      "execution_count": 12,
      "outputs": []
    },
    {
      "cell_type": "markdown",
      "metadata": {
        "id": "n7FG9DMHlM1M",
        "colab_type": "text"
      },
      "source": [
        "### preparing dataset to train"
      ]
    },
    {
      "cell_type": "code",
      "metadata": {
        "id": "lk1wOAbhlQD2",
        "colab_type": "code",
        "colab": {}
      },
      "source": [
        "from sklearn.model_selection import train_test_split,KFold\n",
        "train.reset_index(inplace=True)\n",
        "X = train[features]\n",
        "y = train['units_sold']\n",
        "y = np.log(y)"
      ],
      "execution_count": 13,
      "outputs": []
    },
    {
      "cell_type": "markdown",
      "metadata": {
        "id": "IsmDQ4islRU0",
        "colab_type": "text"
      },
      "source": [
        "### Importing models (Xgboost and lightgbm)"
      ]
    },
    {
      "cell_type": "code",
      "metadata": {
        "id": "A5B-JaSPlSkL",
        "colab_type": "code",
        "colab": {}
      },
      "source": [
        "import lightgbm as lgb\n",
        "\n",
        "hyper_params = {\n",
        "    'boosting_type': 'gbdt',\n",
        "    'objective': 'regression',\n",
        "    'metric': ['l2', 'auc'],\n",
        "    'learning_rate': 0.14,\n",
        "    \"max_depth\": 10,\n",
        "    \"n_estimators\": 1260,\n",
        "    \"subsample\":0.8,\n",
        "    \"min_child_weight\":5,\n",
        "    \"colsample_bytree\":0.8,\n",
        "    \"eta\":0.14,\n",
        "    \"alpha\":0.05,\n",
        "    \n",
        "}\n",
        "\n",
        "gbm = lgb.LGBMRegressor(**hyper_params)"
      ],
      "execution_count": 14,
      "outputs": []
    },
    {
      "cell_type": "code",
      "metadata": {
        "id": "UepsQJuolVwL",
        "colab_type": "code",
        "colab": {}
      },
      "source": [
        "from xgboost import XGBRegressor\n",
        "xgb = XGBRegressor(\n",
        "    max_depth=8,\n",
        "    booster = \"gbtree\",\n",
        "    n_estimators=1300,\n",
        "    alpha=0.1,\n",
        "    colsample_bytree=0.8,\n",
        "    subsample=0.8,\n",
        "    eta='0.3',\n",
        "    min_child_weight=5, \n",
        "    metric=['l2','l1'],\n",
        "    seed=42,tree_method='gpu_hist', gpu_id=0,\n",
        "lambda_l2=0.01,early_stopping_rounds = 100)\n",
        "# gbm.fit(X, y)\n",
        "# xgb.fit(X,y)"
      ],
      "execution_count": 15,
      "outputs": []
    },
    {
      "cell_type": "markdown",
      "metadata": {
        "id": "II5wk-afq-Qn",
        "colab_type": "text"
      },
      "source": [
        "#### I used the BaggingRegressor to boost the score"
      ]
    },
    {
      "cell_type": "code",
      "metadata": {
        "id": "XpXdnjFSq92I",
        "colab_type": "code",
        "colab": {}
      },
      "source": [
        "from sklearn.ensemble import BaggingRegressor\n",
        "\n",
        "bag_xgb = BaggingRegressor(xgb, random_state=0,n_estimators=4)\n",
        "\n",
        "bag_gbm = BaggingRegressor(gbm, random_state=0)"
      ],
      "execution_count": 16,
      "outputs": []
    },
    {
      "cell_type": "markdown",
      "metadata": {
        "id": "7UuMUTIHl0vw",
        "colab_type": "text"
      },
      "source": [
        "### Training the data"
      ]
    },
    {
      "cell_type": "code",
      "metadata": {
        "id": "v3cVZVqkqzi5",
        "colab_type": "code",
        "colab": {}
      },
      "source": [
        "bag_gbm.fit(X,y)\n",
        "bag_xgb.fit(X,y)"
      ],
      "execution_count": null,
      "outputs": []
    },
    {
      "cell_type": "code",
      "metadata": {
        "id": "4yADaDT6lbGm",
        "colab_type": "code",
        "colab": {}
      },
      "source": [
        ""
      ],
      "execution_count": null,
      "outputs": []
    },
    {
      "cell_type": "markdown",
      "metadata": {
        "id": "StHFot6Vlya7",
        "colab_type": "text"
      },
      "source": [
        "### Submission of file (Took ceil values of each output for both xgboost and lightgbm)"
      ]
    },
    {
      "cell_type": "code",
      "metadata": {
        "id": "IFVrAt9jlm9E",
        "colab_type": "code",
        "colab": {}
      },
      "source": [
        "sample = pd.read_csv('https://raw.githubusercontent.com/shrikantnarayankar15/Deamand-Forecasting/master/sample.csv')\n",
        "sample['units_sold'] = np.ceil((np.ceil(np.exp((bag_xgb.predict(test[features]))))+np.ceil(np.exp(bag_gbm.predict(test[features]))))/2)\n",
        "sample.loc[sample['units_sold']<0,'units_sold'] = abs(sample.loc[sample['units_sold']<0,'units_sold'])\n",
        "sample.to_csv('submit.csv',index=False)"
      ],
      "execution_count": null,
      "outputs": []
    }
  ]
}